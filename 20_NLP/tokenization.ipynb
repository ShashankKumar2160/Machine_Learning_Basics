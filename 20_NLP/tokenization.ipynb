{
 "cells": [
  {
   "cell_type": "code",
   "execution_count": 1,
   "metadata": {},
   "outputs": [],
   "source": [
    "corpus = \"\"\"Hey i am shashank.\n",
    "I am a software engineer. I am working in a startup.\n",
    "I am a python developer.\n",
    "I am learning machine learning.\n",
    "I am learning deep learning.\n",
    "I am learning data science.\"\"\""
   ]
  },
  {
   "cell_type": "code",
   "execution_count": 2,
   "metadata": {},
   "outputs": [
    {
     "name": "stdout",
     "output_type": "stream",
     "text": [
      "Hey i am shashank.\n",
      "I am a software engineer. I am working in a startup.\n",
      "I am a python developer.\n",
      "I am learning machine learning.\n",
      "I am learning deep learning.\n",
      "I am learning data science.\n"
     ]
    }
   ],
   "source": [
    "print(corpus)"
   ]
  },
  {
   "cell_type": "code",
   "execution_count": 3,
   "metadata": {},
   "outputs": [],
   "source": [
    "## Tokenization\n",
    "## Sentence -> Paragraph"
   ]
  },
  {
   "cell_type": "code",
   "execution_count": 4,
   "metadata": {},
   "outputs": [
    {
     "name": "stderr",
     "output_type": "stream",
     "text": [
      "[nltk_data] Downloading package punkt to C:\\Users\\deeps/nltk_data...\n",
      "[nltk_data]   Package punkt is already up-to-date!\n"
     ]
    },
    {
     "data": {
      "text/plain": [
       "True"
      ]
     },
     "execution_count": 4,
     "metadata": {},
     "output_type": "execute_result"
    }
   ],
   "source": [
    "import nltk\n",
    "nltk.download('punkt')\n"
   ]
  },
  {
   "cell_type": "code",
   "execution_count": 5,
   "metadata": {},
   "outputs": [
    {
     "name": "stdout",
     "output_type": "stream",
     "text": [
      "['Hey i am shashank.', 'I am a software engineer.', 'I am working in a startup.', 'I am a python developer.', 'I am learning machine learning.', 'I am learning deep learning.', 'I am learning data science.']\n"
     ]
    }
   ],
   "source": [
    "from nltk.tokenize import sent_tokenize\n",
    "sentences = sent_tokenize(corpus)\n",
    "print(sentences)"
   ]
  },
  {
   "cell_type": "code",
   "execution_count": 6,
   "metadata": {},
   "outputs": [
    {
     "name": "stdout",
     "output_type": "stream",
     "text": [
      "['Hey', 'i', 'am', 'shashank', '.', 'I', 'am', 'a', 'software', 'engineer', '.', 'I', 'am', 'working', 'in', 'a', 'startup', '.', 'I', 'am', 'a', 'python', 'developer', '.', 'I', 'am', 'learning', 'machine', 'learning', '.', 'I', 'am', 'learning', 'deep', 'learning', '.', 'I', 'am', 'learning', 'data', 'science', '.']\n"
     ]
    }
   ],
   "source": [
    "from nltk.tokenize import word_tokenize\n",
    "words = word_tokenize(corpus)\n",
    "print(words)"
   ]
  },
  {
   "cell_type": "code",
   "execution_count": 7,
   "metadata": {},
   "outputs": [
    {
     "name": "stdout",
     "output_type": "stream",
     "text": [
      "['Hey', 'i', 'am', 'shashank', '.', 'I', 'am', 'a', 'software', 'engineer', '.', 'I', 'am', 'working', 'in', 'a', 'startup', '.', 'I', 'am', 'a', 'python', 'developer', '.', 'I', 'am', 'learning', 'machine', 'learning', '.', 'I', 'am', 'learning', 'deep', 'learning', '.', 'I', 'am', 'learning', 'data', 'science', '.']\n"
     ]
    }
   ],
   "source": [
    "from nltk.tokenize import wordpunct_tokenize\n",
    "wordpunct = wordpunct_tokenize(corpus)\n",
    "print(wordpunct)\n"
   ]
  },
  {
   "cell_type": "code",
   "execution_count": 8,
   "metadata": {},
   "outputs": [
    {
     "name": "stdout",
     "output_type": "stream",
     "text": [
      "['Hey', 'i', 'am', 'shashank.', 'I', 'am', 'a', 'software', 'engineer.', 'I', 'am', 'working', 'in', 'a', 'startup.', 'I', 'am', 'a', 'python', 'developer.', 'I', 'am', 'learning', 'machine', 'learning.', 'I', 'am', 'learning', 'deep', 'learning.', 'I', 'am', 'learning', 'data', 'science', '.']\n"
     ]
    }
   ],
   "source": [
    "from nltk.tokenize import TreebankWordTokenizer\n",
    "treebank = TreebankWordTokenizer()\n",
    "print(treebank.tokenize(corpus))"
   ]
  },
  {
   "cell_type": "code",
   "execution_count": null,
   "metadata": {},
   "outputs": [],
   "source": []
  }
 ],
 "metadata": {
  "kernelspec": {
   "display_name": "base",
   "language": "python",
   "name": "python3"
  },
  "language_info": {
   "codemirror_mode": {
    "name": "ipython",
    "version": 3
   },
   "file_extension": ".py",
   "mimetype": "text/x-python",
   "name": "python",
   "nbconvert_exporter": "python",
   "pygments_lexer": "ipython3",
   "version": "3.11.5"
  }
 },
 "nbformat": 4,
 "nbformat_minor": 2
}
